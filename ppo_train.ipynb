{
  "cells": [
    {
      "cell_type": "code",
      "source": [
        "pip install trl bert-score transformers -qqq"
      ],
      "metadata": {
        "id": "KGfAL9Yj1A1x"
      },
      "execution_count": null,
      "outputs": []
    },
    {
      "cell_type": "code",
      "source": [
        "from trl import PPOTrainer\n",
        "from transformers import AutoModelForCausalLM, AutoTokenizer\n",
        "\n",
        "model_auxiliary = AutoModelForCausalLM.from_pretrained(model_auxiliary_name)\n",
        "tokenizer_auxiliary = AutoTokenizer.from_pretrained(model_auxiliary_name)\n",
        "\n",
        "ppo_trainer = PPOTrainer(model=model_auxiliary, tokenizer=tokenizer_auxiliary) # ...\n",
        "\n",
        "for original_prompt, correct_answer in dataset:\n",
        "    rewrite_prompt = model_auxiliary.generate(original_prompt)\n",
        "\n",
        "    response = model_responder.generate(rewrite_prompt)\n",
        "\n",
        "    reward = compute_reward(response, correct_answer)\n",
        "\n",
        "    ppo_trainer.step([original_prompt], [rewrite_prompt], [reward])"
      ],
      "metadata": {
        "id": "ZSb-xOnk2Bto"
      },
      "execution_count": null,
      "outputs": []
    },
    {
      "cell_type": "code",
      "execution_count": null,
      "metadata": {
        "id": "RnfnO7NNyb0m"
      },
      "outputs": [],
      "source": [
        "def compute_reward(original_prompt, reformulated_prompt, response, correct_response):\n",
        "    reward = 0\n",
        "    if response == correct_response:\n",
        "        reward += 1.0\n",
        "\n",
        "    if len(reformulated_prompt) < len(original_prompt):\n",
        "        reward += 0.2\n",
        "\n",
        "    reward += compute_semantic_similarity(original_prompt, reformulated_prompt)\n",
        "\n",
        "    return reward"
      ]
    },
    {
      "cell_type": "code",
      "source": [
        "from bert_score import score\n",
        "\n",
        "def compute_semantic_similarity(original_prompt, reformulated_prompt):\n",
        "    P, R, F1 = score([reformulated_prompt], [original_prompt], lang=\"en\", verbose=False)\n",
        "\n",
        "    similarity_score = F1[0].item()\n",
        "\n",
        "    print(f\"Similarity Score (BERTScore F1): {similarity_score:.4f}\")\n",
        "\n",
        "    if similarity_score > 0.85:\n",
        "        reward = 0.3\n",
        "    elif similarity_score > 0.7:\n",
        "        reward = 0.1\n",
        "    else:\n",
        "        reward = 0.0\n",
        "\n",
        "    return reward"
      ],
      "metadata": {
        "id": "d8zwfvzG0Cx9"
      },
      "execution_count": null,
      "outputs": []
    },
    {
      "cell_type": "code",
      "source": [
        "## test compute_reward\n",
        "a = \"If a dozen apples cost $3.60, what is the cost of one apple?\"\n",
        "b = \"What is the price for one apple if 12 cost $3.60?\"\n",
        "compute_reward(a, b, 4, 4)"
      ],
      "metadata": {
        "colab": {
          "base_uri": "https://localhost:8080/"
        },
        "id": "B_f8kprx2K9S",
        "outputId": "84258f45-77e7-4d29-caca-4300464926dd"
      },
      "execution_count": null,
      "outputs": [
        {
          "output_type": "stream",
          "name": "stderr",
          "text": [
            "Some weights of RobertaModel were not initialized from the model checkpoint at roberta-large and are newly initialized: ['pooler.dense.bias', 'pooler.dense.weight']\n",
            "You should probably TRAIN this model on a down-stream task to be able to use it for predictions and inference.\n"
          ]
        },
        {
          "output_type": "stream",
          "name": "stdout",
          "text": [
            "Similarity Score (BERTScore F1): 0.9432\n"
          ]
        },
        {
          "output_type": "execute_result",
          "data": {
            "text/plain": [
              "1.5"
            ]
          },
          "metadata": {},
          "execution_count": 10
        }
      ]
    }
  ],
  "metadata": {
    "accelerator": "GPU",
    "colab": {
      "gpuType": "T4",
      "provenance": [],
      "toc_visible": true
    },
    "kernelspec": {
      "display_name": "Python 3",
      "name": "python3"
    },
    "language_info": {
      "name": "python"
    }
  },
  "nbformat": 4,
  "nbformat_minor": 0
}